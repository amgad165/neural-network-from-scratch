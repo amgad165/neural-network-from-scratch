{
 "cells": [
  {
   "cell_type": "markdown",
   "metadata": {
    "id": "qg6OG5tszFye"
   },
   "source": [
    "# **CS490/590: HW2 - Backpropagation and Classification**\n",
    "\n",
    "\n",
    "---\n",
    "\n",
    "\n",
    "## Due Date \n",
    "**March 8, 2022**\n",
    "\n",
    "*Total 15 points*\n",
    "\n",
    "---"
   ]
  },
  {
   "cell_type": "markdown",
   "metadata": {
    "id": "ok_uXh5TxhYT"
   },
   "source": [
    "## **Background**: #\n",
    "The goal of this homework is for you to implement backpropagation on a classification problem that is not linear separable. This will provide you a sense of how neural networks are implemented from scratch with gradient descent and backpropogation. Specifically, you will be implementing a multilayer perceptron from formulas found in your lectures and notes. \n"
   ]
  },
  {
   "cell_type": "code",
   "execution_count": null,
   "metadata": {
    "id": "-1C9asImxhYW"
   },
   "outputs": [],
   "source": [
    "# load relevant libraries\n",
    "import matplotlib\n",
    "import numpy as np\n",
    "import matplotlib.pyplot as plt\n",
    "from scipy.special import softmax\n",
    "import math\n",
    "%matplotlib inline"
   ]
  },
  {
   "cell_type": "markdown",
   "metadata": {
    "id": "F5cSNsOWxhYZ"
   },
   "source": [
    "## Create the toy dataset\n",
    "The dataset is simply two concentric circles."
   ]
  },
  {
   "cell_type": "code",
   "execution_count": null,
   "metadata": {
    "id": "84vTCVOoxhYa"
   },
   "outputs": [],
   "source": [
    "np.random.seed(0)\n",
    "\n",
    "def make_dataset(num_points):\n",
    "    radius = 5\n",
    "    data = []\n",
    "    labels = np.zeros((num_points, 2))\n",
    "    cnt = 0\n",
    "    # Generate positive examples (labeled 1).\n",
    "    for i in range(num_points // 2):\n",
    "        r = np.random.uniform(0, radius*0.5)\n",
    "        angle = np.random.uniform(0, 2*math.pi)\n",
    "        x = r * math.sin(angle)\n",
    "        y = r * math.cos(angle)\n",
    "        data.append([x, y])\n",
    "        labels[cnt,0] = 1\n",
    "        cnt = cnt + 1\n",
    "        \n",
    "    # Generate negative examples (labeled 0).\n",
    "    for i in range(num_points // 2):\n",
    "        r = np.random.uniform(radius*0.7, radius)\n",
    "        angle = np.random.uniform(0, 2*math.pi)\n",
    "        x = r * math.sin(angle)\n",
    "        y = r * math.cos(angle)\n",
    "        data.append([x, y])\n",
    "        labels[cnt,1] = 1\n",
    "        cnt = cnt + 1\n",
    "        \n",
    "    data = np.asarray(data)\n",
    "    labels = np.asarray(labels)\n",
    "    return data, labels\n",
    "    \n",
    "num_data = 1000\n",
    "data, labels = make_dataset(num_data)\n",
    "# Note: red indicates a label of 1, blue indicates a label of 0\n",
    "plt.scatter(data[:num_data//2, 0], data[:num_data//2, 1], color='red') \n",
    "plt.scatter(data[num_data//2:, 0], data[num_data//2:, 1], color='blue')     "
   ]
  },
  {
   "cell_type": "markdown",
   "metadata": {
    "id": "CutJ70wQxhYe"
   },
   "source": [
    "---\n",
    "## **Question 1:** Defining the neural network *(6 points)*\n",
    "\n",
    "\n",
    "Using a neural network, we will classifiy the above data. The input will be a two dimensional vector $\\mathbf{x} \\in \\mathbb{R}^{2 \\times 1} $ giving the coordinates of a point in 2-D space. The output is a vector $\\mathbf{y} \\in \\mathbb{R}^{2}$ containing the probability $P(y = t | \\mathbf{x})$ where $t = 1,2$ indicates the point $\\mathbf{x}$ is in circle 1 or 2.  \n",
    "\n",
    "A neural network with two hidden layers which have 30 and 20 hidden units each, will be used. The equations describing our neural network for a single observtion are given below:\n",
    "\n",
    "$$\\mathbf{z}^{(1)} = \\mathbf{W}^{(1)} \\mathbf{x} + \\mathbf{b}^{(1)}$$\n",
    "$$\\mathbf{h}^{(1)} = \\tanh(\\mathbf{z}^{(1)})$$\n",
    "$$\\mathbf{z}^{(2)} = \\mathbf{W}^{(2)} \\mathbf{h}^{(1)} + \\mathbf{b}^{(2)}$$\n",
    "$$\\mathbf{h}^{(2)} = \\tanh(\\mathbf{z}^{(2)})$$\n",
    "$$\\mathbf{z}^{(3)} = \\mathbf{W}^{(3)} \\mathbf{h}^{(2)} + \\mathbf{b}^{(3)}$$\n",
    "$$\\mathbf{y} = \\sigma(\\mathbf{z}^{(3)})$$\n",
    "\n",
    "where, $\\mathbf{W}^{(1)}\\in\\mathbb{R}^{30 \\times 2}, \\mathbf{b}^{(1)}\\in\\mathbb{R}^{30}, \\mathbf{W}^{(2)}\\in\\mathbb{R}^{20 \\times 30}, \\mathbf{b}^{(2)}\\in\\mathbb{R}^{20}, \\mathbf{W}^{(3)}\\in\\mathbb{R}^{2 \\times 20}, \\mathbf{b}^{(3)}  \\in \\mathbb{R}^{2}$ are the parameters of our neural network which we must learn and $\\sigma$ is the softmax function.\n",
    "\n"
   ]
  },
  {
   "cell_type": "markdown",
   "metadata": {
    "id": "s7rFBMlWxhYf"
   },
   "source": [
    "### Vectorizing the forward pass of the neural network\n",
    "\n",
    "To compute the predictions more efficiently we need to vectorize over the training examples. Let  $\\mathbf{X} \\in \\mathbb{R}^{N  \\times 2}$ be a matrix containing $N$ observations in separate rows. Then we can vectorize the above formulas by:\n",
    "\n",
    "$$\\mathbf{Z}^{(1)} = \\mathbf{X}{\\mathbf{W}^{(1)}}^T + \\mathbf{1}{\\mathbf{b}^{(1)}}^T$$\n",
    "$$\\mathbf{H}^{(1)} = \\tanh(\\mathbf{Z}^{(1)})$$\n",
    "$$\\mathbf{Z}^{(2)} = \\mathbf{H}^{(1)}{\\mathbf{W}^{(2)}}^T + \\mathbf{1}{\\mathbf{b}^{(2)}}^T$$\n",
    "$$\\mathbf{H}^{(2)} = \\tanh(\\mathbf{Z}^{(2)})$$\n",
    "$$\\mathbf{z} = \\mathbf{H}^{(2)}{\\mathbf{W}^{(3)}}^T + \\mathbf{1}b^{(3)}$$\n",
    "$$\\mathbf{y} = \\sigma(\\mathbf{z})$$\n"
   ]
  },
  {
   "cell_type": "markdown",
   "metadata": {
    "id": "I8i4cWAjK10t"
   },
   "source": [
    "In the code below, fill in the formulas, and initialize the weights with values from the uniform random distribiution and the biases with 0's."
   ]
  },
  {
   "cell_type": "code",
   "execution_count": null,
   "metadata": {
    "id": "ufecoQfWxhYg"
   },
   "outputs": [],
   "source": [
    "# FIRST INITIALIZE THE NEURAL NETWORK PARAMETERS.\n",
    "#\n",
    "# Make use of numpy functions to do the initializatons. \n",
    "# Make sure you follow the correct dimensions for vectors and matrices. \n",
    "\n",
    "params = {}\n",
    "### YOUR CODE HERE ###\n",
    "params['W1'] = \n",
    "params['b1'] = \n",
    "params['W2'] = \n",
    "params['b2'] = \n",
    "params['W3'] = \n",
    "params['b3'] = \n",
    "######################\n",
    "\n",
    "# DEFINE THE FORWARD PASS OF THE NETWORK.\n",
    "# \n",
    "# You can use params['W1'] and the other parameters like regular numpy variables. \n",
    "def forward(X, params):\n",
    "\n",
    "    ### YOUR CODE HERE ###   \n",
    " \n",
    "    ######################\n",
    "    return y"
   ]
  },
  {
   "cell_type": "markdown",
   "metadata": {
    "id": "MHfrGRT5xhYi"
   },
   "source": [
    "### Visualize the network's predictions\n",
    "\n",
    "Let's visualize the predictions of our untrained network. As we can see, the network does not succeed at classifying the points without training"
   ]
  },
  {
   "cell_type": "code",
   "execution_count": null,
   "metadata": {
    "id": "hxQFjRTnxhYj"
   },
   "outputs": [],
   "source": [
    "num_points = 200\n",
    "x1s = np.linspace(-6.0, 6.0, num_points)\n",
    "x2s = np.linspace(-6.0, 6.0, num_points)\n",
    "\n",
    "points = np.transpose([np.tile(x1s, len(x2s)), np.repeat(x2s, len(x1s))])\n",
    "Y = forward(points, params)\n",
    "Yp = np.argmax(Y , axis=1) # To get the actual prediction label we need to find the column with maximum probability. \n",
    "Yp = Yp.reshape(num_points, num_points) # Reshape the predicted points into a 2D grid.\n",
    "X1, X2 = np.meshgrid(x1s, x2s)\n",
    "\n",
    "plt.pcolormesh(X1, X2, Yp, cmap=plt.cm.get_cmap('YlGn'))\n",
    "plt.colorbar()\n",
    "plt.scatter(data[:num_data//2, 0], data[:num_data//2, 1], color='red') \n",
    "plt.scatter(data[num_data//2:, 0], data[num_data//2:, 1], color='blue') "
   ]
  },
  {
   "cell_type": "markdown",
   "metadata": {
    "id": "QLOhMU82xhYm"
   },
   "source": [
    "---\n",
    "## **Question 2:** Implementing backpropogation *(9 points)*\n",
    "### Loss function\n",
    "\n",
    "We will use the same cross entropy loss function as in logistic regression. This loss function is:\n",
    "\n",
    "$$\\mathcal{L}_{CE}(y, t) = -t \\log(y) - (1 - t)\\log(1 - y)$$\n",
    "\n",
    "Here $y = P(t = 1|\\mathbf{x})$ and $t$ is the true label.\n",
    "\n",
    "Remember that computing the derivative of this loss function $\\frac{d L}{dy}$ can become numerically unstable. Instead, we combine the logistic function and the cross entropy loss into a single function called logistic cross-entropy:\n",
    "\n",
    "$$\\mathcal{L}_{LCE}(z, t) = t \\log(1 + \\exp(-z)) + (1 -t) \\log(1 + \\exp(z))$$\n",
    "\n",
    "See Lecture Notes for a review. \n",
    "\n",
    "Our cost function is the sum over multiple examples of the loss function, normalized by the number of examples:\n",
    "\n",
    "$$\\mathcal{E}(\\mathbf{z}, \\mathbf{t}) = \\frac{1}{N} \\left[\\sum_{i=1}^N \\mathcal{L}(z_i, t_i)\\right]$$"
   ]
  },
  {
   "cell_type": "markdown",
   "metadata": {
    "id": "moXacaiIxhYn"
   },
   "source": [
    "### Derive and implement the backpropagation equations\n",
    "\n",
    "Derive the backpropagation equations in vector form and provide the code below. Rememember that the derivates of the matrices and vectors should have the same dimensions as the orignal variables. Take a look at the lecture notes and slides and on how to do backpropagation for MLPs and to find the derivative for softmax-cross-entropy. \n"
   ]
  },
  {
   "cell_type": "code",
   "execution_count": null,
   "metadata": {
    "id": "-JQ0ICc-xhYr"
   },
   "outputs": [],
   "source": [
    "def backprop(X, t, params):\n",
    "    \n",
    "    N = X.shape[0]\n",
    "\n",
    "    # PERFORM THE FORWARD COMPUTATION\n",
    "    #\n",
    "    # same as from above in Q.1\n",
    "    ### YOUR CODE HERE ### \n",
    "   \n",
    "    #######################\n",
    "\n",
    "    loss = (1./N) * np.sum(-t * np.log(y) - (1 - t) * np.log(1 - y))\n",
    "    \n",
    "\n",
    "    # PERFORM THE BACKWARD COPMUTATION.\n",
    "    #\n",
    "    ### YOUR CODE HERE ###\n",
    "    \n",
    "    ######################\n",
    "\n",
    "    # Wrap our gradients in a dictionary.\n",
    "    grads = {}\n",
    "    grads['W1'] = W1_bar\n",
    "    grads['b1'] = b1_bar\n",
    "    grads['W2'] = W2_bar\n",
    "    grads['b2'] = b2_bar\n",
    "    grads['W3'] = W3_bar\n",
    "    grads['b3'] = b3_bar\n",
    "    \n",
    "    return grads, loss"
   ]
  },
  {
   "cell_type": "markdown",
   "metadata": {
    "id": "YtWAvZ00xhYt"
   },
   "source": [
    "## Training the network\n",
    "\n",
    "Train the network parameters with gradient descent using the derivatives from the backpropagation algorithm. Recall that the gradient descent update rule for a given parameter $\\mathbf{w}^{(i)}$ in the $i^{th}$ layer and learning rate $\\alpha$ is:\n",
    "\n",
    "$$\\mathbf{w}^{(i)} \\gets \\mathbf{w}^{(i)} - \\alpha * \\frac{\\partial \\mathcal{E}}{\\partial \\mathbf{w}^{(i)}}$$\n",
    "\n",
    "Also make sure that you choose the correct $\\alpha$ and the correct number of steps, to reach s loss of almost 0. "
   ]
  },
  {
   "cell_type": "code",
   "execution_count": null,
   "metadata": {
    "id": "8ces-OIuXuKY"
   },
   "outputs": [],
   "source": [
    "def grad_descent(X, t, params, print_every, niter, alpha):\n",
    "    \n",
    "    for j in range(niter):\n",
    "        ### YOUR CODE HERE ###\n",
    "        \n",
    "        for k in params:\n",
    "            params[k] = \n",
    "        #######################\n",
    "        \n",
    "        if j % print_every == 0:\n",
    "            print(\"Step {:3d} | Loss {:3.2f}\".format(j, loss))\n",
    "    \n",
    "    return params\n",
    "\n",
    "num_steps = # YOUR CODE HERE\n",
    "alpha = # YOUR CODE HERE\n",
    "\n",
    "params = grad_descent(data, labels, params, 500, num_steps, alpha)\n"
   ]
  },
  {
   "cell_type": "markdown",
   "metadata": {
    "id": "ZyGHbvqixhYx"
   },
   "source": [
    "## Visualizing the predictions\n",
    "Now when we visualize the prediction we see that the correct labels are highlighted."
   ]
  },
  {
   "cell_type": "code",
   "execution_count": null,
   "metadata": {
    "id": "njkJJ_q8xhYy"
   },
   "outputs": [],
   "source": [
    "num_points = 200\n",
    "x1s = np.linspace(-6.0, 6.0, num_points)\n",
    "x2s = np.linspace(-6.0, 6.0, num_points)\n",
    "\n",
    "points = np.transpose([np.tile(x1s, len(x2s)), np.repeat(x2s, len(x1s))])\n",
    "Y = forward(points, params)\n",
    "Yp = np.argmax(Y, axis=1)\n",
    "Yp = Yp.reshape(num_points, num_points)\n",
    "X1, X2 = np.meshgrid(x1s, x2s)\n",
    "\n",
    "plt.pcolormesh(X1, X2, Yp, cmap=plt.cm.get_cmap('YlGn'))\n",
    "plt.colorbar()\n",
    "plt.scatter(data[:num_data//2, 0], data[:num_data//2, 1], color='red') \n",
    "plt.scatter(data[num_data//2:, 0], data[num_data//2:, 1], color='blue') "
   ]
  }
 ],
 "metadata": {
  "colab": {
   "collapsed_sections": [],
   "name": "HW2_BackpropagationAndClassification_Multiclass_Handout_2022_sp.ipynb",
   "provenance": []
  },
  "kernelspec": {
   "display_name": "Python 3 (ipykernel)",
   "language": "python",
   "name": "python3"
  },
  "language_info": {
   "codemirror_mode": {
    "name": "ipython",
    "version": 3
   },
   "file_extension": ".py",
   "mimetype": "text/x-python",
   "name": "python",
   "nbconvert_exporter": "python",
   "pygments_lexer": "ipython3",
   "version": "3.9.7"
  }
 },
 "nbformat": 4,
 "nbformat_minor": 1
}
